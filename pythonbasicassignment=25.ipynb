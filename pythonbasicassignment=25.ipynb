{
 "cells": [
  {
   "cell_type": "markdown",
   "id": "b1dc34aa",
   "metadata": {},
   "source": [
    "1) . What is the difference between enclosing a list comprehension in square brackets and\n",
    "parentheses?\n",
    "2) What is the relationship between generators and iterators?\n",
    "3) What are the signs that a function is a generator function?\n",
    "4) What is the purpose of a yield statement?\n",
    "5) What is the relationship between map calls and list comprehensions? Make a comparison and\n",
    "contrast between the two."
   ]
  },
  {
   "cell_type": "markdown",
   "id": "992a62f3",
   "metadata": {},
   "source": [
    "1\n",
    "If we enclose a list comprehension in square bracket the output is a list and if we enclose a list comprehension in parentheses the output is a generator."
   ]
  },
  {
   "cell_type": "code",
   "execution_count": 3,
   "id": "801eb88d",
   "metadata": {},
   "outputs": [
    {
     "name": "stdout",
     "output_type": "stream",
     "text": [
      "[0, 1, 2, 3, 4, 5, 6, 7, 8, 9] <class 'list'>\n",
      "<generator object <genexpr> at 0x0000021A9CC8BC10> <class 'generator'>\n"
     ]
    }
   ],
   "source": [
    "l = [ele for ele in  range(10) ]\n",
    "print(l,type(l))\n",
    "g = (ele for ele in range(10))\n",
    "print(g,type(g))"
   ]
  },
  {
   "cell_type": "markdown",
   "id": "bb1dc6ba",
   "metadata": {},
   "source": [
    "2.Iterators iterates over iterable functions like tuples,sets,list.Similarly Generators are an another way of creating iterators in a simple way where it uses the keyword yield statement instead of return statement in a defined function"
   ]
  },
  {
   "cell_type": "markdown",
   "id": "ac7acb59",
   "metadata": {},
   "source": [
    "3.Generator function uses a yield statement instead of return statement.A generation function always return a iterable object called generator whereas normal function return values like list,tuples,string,dict.\n"
   ]
  },
  {
   "cell_type": "markdown",
   "id": "4282d7eb",
   "metadata": {},
   "source": [
    "4.yield is used in generator function and is same as we use return in normal function, to return a value"
   ]
  },
  {
   "cell_type": "markdown",
   "id": "1f6319aa",
   "metadata": {},
   "source": [
    "5. The main differences between map calls and list comprehensiosn are:\n",
    "\n",
    "1-List comprehension is more concise and easier to read as compared to map.\n",
    "2- To print all odd numbers in range of 50, we can write [n for n in range(50) if n%2 != 0]. There is no alternate for it in map\n",
    "3-List comprehension are used when a list of results is required as final output.but map only returns a map object. it needs to be explicitly coverted to desired datatype.\n",
    "4-List comprehension is faster than map when we need to evaluate expressions that are too long or complicated to express\n",
    "5-Map is faster in case of calling an already defined function on a set of values."
   ]
  }
 ],
 "metadata": {
  "kernelspec": {
   "display_name": "Python 3 (ipykernel)",
   "language": "python",
   "name": "python3"
  },
  "language_info": {
   "codemirror_mode": {
    "name": "ipython",
    "version": 3
   },
   "file_extension": ".py",
   "mimetype": "text/x-python",
   "name": "python",
   "nbconvert_exporter": "python",
   "pygments_lexer": "ipython3",
   "version": "3.9.12"
  }
 },
 "nbformat": 4,
 "nbformat_minor": 5
}
